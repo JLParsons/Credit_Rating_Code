{
 "cells": [
  {
   "cell_type": "markdown",
   "id": "d6d5bbf1-91a5-4faa-ba46-65a4f7707194",
   "metadata": {},
   "source": [
    "# MOJOS GROUP CREDIT PRE-Qualify APPLICATION"
   ]
  },
  {
   "cell_type": "markdown",
   "id": "416a328d-5e77-461e-827a-7999d7db4b18",
   "metadata": {},
   "source": [
    "We recently formed a company named the MOJOS GROUP. Our company got contacted by a car dealership. The deslership said they have been hearing their competitors talking about  using machinine learning for better business and recruited our help.The average car pre-qualification takes less than 2 minutes and currently, the company has no way of pre-qualifying their customers. Therefore we decided that we will use our  fintech skills to find the best model that asks the best questions to qualify a customer"
   ]
  },
  {
   "cell_type": "markdown",
   "id": "ef17d3c9-98bd-44b9-bdb6-f4734a45b5a0",
   "metadata": {
    "tags": []
   },
   "source": [
    "# Initial instructions\n",
    "##### Importing the necessary files.\n",
    "##### Cleaning the data. Dropping any missing columns. Replacing any nan.\n"
   ]
  },
  {
   "cell_type": "markdown",
   "id": "be3d7525-2897-4dca-9411-2f99970381e4",
   "metadata": {
    "jp-MarkdownHeadingCollapsed": true,
    "tags": []
   },
   "source": [
    "#### Preprocessing the data\n",
    "###### Use of dummy variables\n",
    "###### LabelEncoder \n",
    "###### Standard Scaler"
   ]
  },
  {
   "cell_type": "markdown",
   "id": "9d6bb852-b8b1-4216-a491-e6237ad21827",
   "metadata": {
    "tags": []
   },
   "source": [
    "# Models that we are going to use\n",
    "##### Gradient Boost Classifier\n",
    "##### Decision Tree Classifier\n",
    "##### Random Forest Classifier\n",
    "##### Tensor Flow\n"
   ]
  },
  {
   "cell_type": "code",
   "execution_count": null,
   "id": "281eeccb-a1b2-4101-9b78-890fc8df75f0",
   "metadata": {},
   "outputs": [],
   "source": []
  }
 ],
 "metadata": {
  "kernelspec": {
   "display_name": "Python 3 (ipykernel)",
   "language": "python",
   "name": "python3"
  },
  "language_info": {
   "codemirror_mode": {
    "name": "ipython",
    "version": 3
   },
   "file_extension": ".py",
   "mimetype": "text/x-python",
   "name": "python",
   "nbconvert_exporter": "python",
   "pygments_lexer": "ipython3",
   "version": "3.8.8"
  }
 },
 "nbformat": 4,
 "nbformat_minor": 5
}
